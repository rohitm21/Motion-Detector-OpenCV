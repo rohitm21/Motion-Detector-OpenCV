{
 "cells": [
  {
   "cell_type": "code",
   "execution_count": null,
   "metadata": {},
   "outputs": [],
   "source": [
    "import cv2\n",
    "\n",
    "cap = cv2.VideoCapture(0)\n",
    "\n",
    "_, first = cap.read()\n",
    "\n",
    "while True:\n",
    "    _, second = cap.read()\n",
    "\n",
    "    orig = second.copy()\n",
    "\n",
    "    diff = cv2.absdiff(second, first)\n",
    "\n",
    "    gray = cv2.cvtColor(diff, cv2.COLOR_BGR2GRAY)\n",
    "\n",
    "    _, th = cv2.threshold(gray, 25, 255, cv2.THRESH_BINARY)\n",
    "\n",
    "    contors, _ = cv2.findContours(th, cv2.RETR_TREE, cv2.CHAIN_APPROX_SIMPLE)\n",
    "\n",
    "    for contor in contors:\n",
    "        if cv2.contourArea(contor) > 5000:\n",
    "            (x, y, w, h) = cv2.boundingRect(contor)\n",
    "            cv2.rectangle(orig, (x, y), (x + w, y + h), (0, 255, 0), 3)\n",
    "            cv2.putText(orig, \"MOTION-DETECTED\", (20, 400), cv2.FONT_HERSHEY_SIMPLEX, 1, (0, 0, 255), 3)\n",
    "\n",
    "    cv2.imshow(\"\", orig)\n",
    "\n",
    "    first = second.copy()\n",
    "\n",
    "    if cv2.waitKey(1) == 27:\n",
    "        break\n",
    "\n",
    "cap.release()\n",
    "cv2.destroyAllWindows()"
   ]
  }
 ],
 "metadata": {
  "kernelspec": {
   "display_name": "Python 3",
   "language": "python",
   "name": "python3"
  },
  "language_info": {
   "codemirror_mode": {
    "name": "ipython",
    "version": 3
   },
   "file_extension": ".py",
   "mimetype": "text/x-python",
   "name": "python",
   "nbconvert_exporter": "python",
   "pygments_lexer": "ipython3",
   "version": "3.7.3"
  }
 },
 "nbformat": 4,
 "nbformat_minor": 2
}
